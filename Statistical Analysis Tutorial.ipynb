{
 "cells": [
  {
   "cell_type": "markdown",
   "metadata": {},
   "source": [
    "<center><h1>Example of statistical analysis:</h1>\n",
    "<h2>Search of gaussian signal in an exponentially decreasing background</h2> "
   ]
  },
  {
   "cell_type": "markdown",
   "metadata": {},
   "source": [
    "<h3>1. Tools and functions definitions: </h3>"
   ]
  },
  {
   "cell_type": "markdown",
   "metadata": {},
   "source": [
    "<h4> loading the tools: </h4>"
   ]
  },
  {
   "cell_type": "code",
   "execution_count": 1,
   "metadata": {
    "collapsed": false
   },
   "outputs": [
    {
     "name": "stdout",
     "output_type": "stream",
     "text": [
      "Populating the interactive namespace from numpy and matplotlib\n"
     ]
    }
   ],
   "source": [
    "# Native Python modules\n",
    "import os, sys, csv, string\n",
    "\n",
    "# Scipy/Numpy modules\n",
    "import numpy as np\n",
    "import scipy as sp\n",
    "import matplotlib.pyplot as plt\n",
    "#get the plots in the notebook\n",
    "%pylab inline"
   ]
  },
  {
   "cell_type": "markdown",
   "metadata": {},
   "source": [
    "<h4>Functions definitions </h4>"
   ]
  },
  {
   "cell_type": "code",
   "execution_count": 2,
   "metadata": {
    "collapsed": true
   },
   "outputs": [],
   "source": [
    "def bgFunc(alpha):\n",
    "    return lambda x: 1.0/alpha*np.exp(-x/alpha)\n",
    "def sigFunc(mu, sigma):\n",
    "    return lambda x: 1.0/(np.sqrt(2*np.pi)*sigma)*np.exp(-np.power((x-mu),2)/(2*np.power(sigma,2)))"
   ]
  },
  {
   "cell_type": "code",
   "execution_count": 3,
   "metadata": {
    "collapsed": false
   },
   "outputs": [],
   "source": [
    "bg=bgFunc(25)\n",
    "sg=sigFunc(15,2)"
   ]
  },
  {
   "cell_type": "markdown",
   "metadata": {},
   "source": [
    "<h4>generate the signal and background histograms</h4>"
   ]
  },
  {
   "cell_type": "code",
   "execution_count": 4,
   "metadata": {
    "collapsed": true
   },
   "outputs": [],
   "source": [
    "def generateHisto(xRange,nbBins,func):\n",
    "    binSize=(xRange[1]-xRange[0])/nbBins\n",
    "    xBinLow=[]\n",
    "    xiVal=[]\n",
    "    xWidth=[]\n",
    "    #first check which scale should be applied to the histogram\n",
    "    histoIntegral=0\n",
    "    for i in range(0,nbBins):\n",
    "        xi=xRange[0]+1.0*i*binSize+1.0*binSize/2\n",
    "        histoIntegral=histoIntegral+func(xi)\n",
    "    #compute the scale to apply to the histo\n",
    "    reScale=1./histoIntegral\n",
    "    #now generate the histo\n",
    "    for i in range(0,nbBins):\n",
    "        xBinLow.append(xRange[0]+i*binSize)\n",
    "        xi=xRange[0]+1.0*i*binSize+1.0*binSize/2\n",
    "        xiVal.append(reScale*func(xi))\n",
    "        xWidth.append(binSize)\n",
    "    return [xBinLow, xiVal, xWidth]\n",
    "\n"
   ]
  },
  {
   "cell_type": "code",
   "execution_count": 5,
   "metadata": {
    "collapsed": false
   },
   "outputs": [
    {
     "name": "stdout",
     "output_type": "stream",
     "text": [
      "sumSig= 1.0 sumBg= 1.0\n"
     ]
    },
    {
     "data": {
      "image/png": "[encoded data removed]",
      "text/plain": [
       "<matplotlib.figure.Figure at 0x10a7ada20>"
      ]
     },
     "metadata": {},
     "output_type": "display_data"
    }
   ],
   "source": [
    "bgHisto_=generateHisto([0,100],100,bg)\n",
    "sigHisto_=generateHisto([0,100],100,sg)\n",
    " \n",
    "plt.bar(bgHisto_[0], bgHisto_[1], width=bgHisto_[2])     \n",
    "plt.bar(sigHisto_[0], sigHisto_[1], width=sigHisto_[2],color='r')     \n",
    "\n",
    "print('sumSig=',sum(sigHisto_[1]), 'sumBg=', sum(bgHisto_[1]))\n",
    "\n"
   ]
  },
  {
   "cell_type": "code",
   "execution_count": 6,
   "metadata": {
    "collapsed": false
   },
   "outputs": [
    {
     "data": {
      "text/plain": [
       "<Container object of 100 artists>"
      ]
     },
     "execution_count": 6,
     "metadata": {},
     "output_type": "execute_result"
    },
    {
     "data": {
      "image/png": "[encoded data removed]",
      "text/plain": [
       "<matplotlib.figure.Figure at 0x10f3990f0>"
      ]
     },
     "metadata": {},
     "output_type": "display_data"
    }
   ],
   "source": [
    "NbBgEvent_=5000\n",
    "NbSigEvent_=70\n",
    "\n",
    "sigHistoNormed=[x * NbSigEvent_ for x in sigHisto_[1]]\n",
    "bgHistoNormed=[x * NbBgEvent_ for x in bgHisto_[1]]\n",
    "\n",
    "\n",
    "sumSigBg=list(map(add,sigHistoNormed, bgHistoNormed))\n",
    "plt.bar(sigHisto_[0], sumSigBg, width=sigHisto_[2],color='g')     \n",
    "plt.bar(bgHisto_[0], bgHistoNormed, width=bgHisto_[2])     \n",
    "plt.bar(sigHisto_[0], sigHistoNormed, width=sigHisto_[2],color='r')"
   ]
  },
  {
   "cell_type": "markdown",
   "metadata": {},
   "source": [
    "<h4>loading the data </h4>"
   ]
  },
  {
   "cell_type": "code",
   "execution_count": 7,
   "metadata": {
    "collapsed": false
   },
   "outputs": [],
   "source": [
    "dataHist=[183, 203, 189, 178, 169, 187, 156, 150, 164, 141, 153, 123, 122, 122, 117, 128, 125, 99, 91, 93, 85, 100, 91, 64, 80, 66, 69, 65, 64, 59, 64, 58, 55, 47, 52, 36, 54, 47, 53, 42, 34, 40, 45, 40, 32, 40, 24, 29, 30, 28, 19, 27, 23, 26, 23, 22, 28, 20, 13, 16, 13, 15, 15, 20, 18, 12, 13, 11, 13, 10, 9, 16, 10, 13, 6, 8, 13, 14, 4, 4, 9, 3, 10, 10, 8, 6, 11, 9, 6, 4, 6, 4, 9, 3, 5, 10, 5, 5, 5, 4]"
   ]
  },
  {
   "cell_type": "code",
   "execution_count": 8,
   "metadata": {
    "collapsed": false
   },
   "outputs": [
    {
     "data": {
      "text/plain": [
       "<Container object of 100 artists>"
      ]
     },
     "execution_count": 8,
     "metadata": {},
     "output_type": "execute_result"
    },
    {
     "data": {
      "image/png": "[encoded data removed]",
      "text/plain": [
       "<matplotlib.figure.Figure at 0x10fd72550>"
      ]
     },
     "metadata": {},
     "output_type": "display_data"
    }
   ],
   "source": [
    "plt.bar(sigHisto_[0], dataHist, width=sigHisto_[2],color='g')  "
   ]
  },
  {
   "cell_type": "markdown",
   "metadata": {},
   "source": [
    "<h4>Generate pseudo-data</h4>"
   ]
  },
  {
   "cell_type": "code",
   "execution_count": 9,
   "metadata": {
    "collapsed": false
   },
   "outputs": [
    {
     "data": {
      "text/plain": [
       "<Container object of 100 artists>"
      ]
     },
     "execution_count": 9,
     "metadata": {},
     "output_type": "execute_result"
    },
    {
     "data": {
      "image/png": "[encoded data removed]",
      "text/plain": [
       "<matplotlib.figure.Figure at 0x10ffd3fd0>"
      ]
     },
     "metadata": {},
     "output_type": "display_data"
    }
   ],
   "source": [
    "def pseudoDataFromHisto(histoSig,histoBg, NbSigEvent,NbBgEvent, mu):\n",
    "    smearedHisto=[]\n",
    "    sigHistoNormed=[x * NbSigEvent* mu for x in histoSig]\n",
    "    bgHistoNormed=[x * NbBgEvent for x in histoBg]\n",
    "    theHisto=map(add,sigHistoNormed, bgHistoNormed)\n",
    "    for aBin in theHisto:\n",
    "        smearedHisto.append(np.random.poisson(aBin,1)[0])\n",
    "    return smearedHisto\n",
    "\n",
    "myPseudoDataTest=pseudoDataFromHisto(sigHisto_[1],bgHisto_[1],NbSigEvent_, NbBgEvent_,1)\n",
    "plt.bar(sigHisto_[0], myPseudoDataTest, width=sigHisto_[2],color='g')  \n"
   ]
  },
  {
   "cell_type": "markdown",
   "metadata": {},
   "source": [
    "<h3>2. Likelyhood ratio</h3>"
   ]
  },
  {
   "cell_type": "markdown",
   "metadata": {},
   "source": [
    "<h4>Define and compute the likelihood ratio </h4>"
   ]
  },
  {
   "cell_type": "markdown",
   "metadata": {},
   "source": [
    "$$L_{\\mu \\times s + b}(data) = \\prod_{i \\in bins} P_{Poisson}\\left(d_{i} | \\mu \\times s_{i} + b_{i}\\right) $$\n",
    "$$L_{\\mu \\times s + b}(data) = \\prod_{i \\in bins} \\frac{\\left(\\mu \\times s_{i} + b_{i}\\right)^{d_{i}}}{d_{i}!}\\times e^{-\\left(\\mu \\times s_{i} + b_{i}\\right)} $$\n",
    "$$\\frac{L_{s+b}(data)}{L_{b}(data)} =  \\prod_{i \\in bins} \\frac{\\frac{\\left( s_{i} + b_{i}\\right)^{d_{i}}}{d_{i}!}\\times e^{s_{i} + b_{i}}}{\\frac{\\left(b_{i}\\right)^{d_{i}}}{d_{i}!}\\times e^{b_{i}}} = \\prod_{i \\in bins} \\left(1+\\frac{s_{i}}{b_{i}}\\right)^{d_{i}}\\times e^{-s_{i}}$$\n",
    "$$Q=-2\\times ln \\left(\\frac{L_{s+b}(data)}{L_{b}(data)}\\right) = 2s - 2\\times \\sum_{i \\in bins} d_{i}\\times ln\\left(1+\\frac{s_{i}}{b_{i}}\\right)  $$"
   ]
  },
  {
   "cell_type": "code",
   "execution_count": 10,
   "metadata": {
    "collapsed": false
   },
   "outputs": [
    {
     "name": "stdout",
     "output_type": "stream",
     "text": [
      "-2.70903320646\n"
     ]
    }
   ],
   "source": [
    "def likelyhoodRatio(data,modelSig,modelBg,NbSigEvent,NbBgEvent):\n",
    "    nbBin=len(data)\n",
    "    LikelyValue=(NbSigEvent)\n",
    "    for i in range(0,nbBin):\n",
    "        LikelyValue=LikelyValue-(data[i]*np.log(1+NbSigEvent*modelSig[i]/(NbBgEvent*modelBg[i])))\n",
    "    return 2*LikelyValue\n",
    "\n",
    "valueLikelyhoodRatio=likelyhoodRatio(dataHist,sigHisto_[1],bgHisto_[1],NbSigEvent_, NbBgEvent_)\n",
    "\n",
    "print(valueLikelyhoodRatio)"
   ]
  },
  {
   "cell_type": "code",
   "execution_count": 11,
   "metadata": {
    "collapsed": false
   },
   "outputs": [
    {
     "name": "stdout",
     "output_type": "stream",
     "text": [
      "0\n",
      "1000\n",
      "2000\n",
      "3000\n",
      "4000\n",
      "5000\n",
      "6000\n",
      "7000\n",
      "8000\n",
      "9000\n",
      "0\n",
      "1000\n",
      "2000\n",
      "3000\n",
      "4000\n",
      "5000\n",
      "6000\n",
      "7000\n",
      "8000\n",
      "9000\n"
     ]
    },
    {
     "data": {
      "text/plain": [
       "<matplotlib.legend.Legend at 0x1022cfdd8>"
      ]
     },
     "execution_count": 11,
     "metadata": {},
     "output_type": "execute_result"
    },
    {
     "data": {
      "image/png": "[encoded data removed]",
      "text/plain": [
       "<matplotlib.figure.Figure at 0x11050f390>"
      ]
     },
     "metadata": {},
     "output_type": "display_data"
    }
   ],
   "source": [
    "nbToys=10000\n",
    "LRbgOnly=[]\n",
    "for i in range(0,nbToys):\n",
    "    if i%1000==0:\n",
    "        print(i)\n",
    "    aPseudoBgOnly=pseudoDataFromHisto(sigHisto_[1],bgHisto_[1],NbSigEvent_, NbBgEvent_,0)\n",
    "    LRbgOnly.append(likelyhoodRatio(aPseudoBgOnly,sigHisto_[1],bgHisto_[1],NbSigEvent_, NbBgEvent_))\n",
    "LRbgOnlyHist = plt.hist(LRbgOnly,histtype='step',bins=100,label='H0')\n",
    "\n",
    "LRsigBg=[]\n",
    "for i in range(0,nbToys):\n",
    "    if i%1000==0:\n",
    "        print(i)\n",
    "    aPseudoSigBg=pseudoDataFromHisto(sigHisto_[1],bgHisto_[1],NbSigEvent_, NbBgEvent_,1)\n",
    "    LRsigBg.append(likelyhoodRatio(aPseudoSigBg,sigHisto_[1],bgHisto_[1],NbSigEvent_, NbBgEvent_))\n",
    "LRsigBgHist = plt.hist(LRsigBg,histtype='step',bins=100,label='H1')\n",
    "plt.legend(loc=\"upper left\", bbox_to_anchor=[0, 1],\n",
    "           ncol=1, shadow=True, title=\"Legend\", fancybox=True)"
   ]
  },
  {
   "cell_type": "code",
   "execution_count": 13,
   "metadata": {
    "collapsed": false
   },
   "outputs": [
    {
     "data": {
      "image/png": "[encoded data removed]",
      "text/plain": [
       "<matplotlib.figure.Figure at 0x110799828>"
      ]
     },
     "metadata": {},
     "output_type": "display_data"
    }
   ],
   "source": [
    "LRbins=[x for x in range(-50,51)]\n",
    "histoValsBgOnly,LRBins,patchBg = hist(LRbgOnly,LRbins,histtype='step',label='H0')\n",
    "histoValsSigBg,LRBins,patchSigBg = hist(LRsigBg,LRbins,histtype='step',label='H1')\n",
    "plt.legend(loc=\"upper left\", bbox_to_anchor=[0, 1],\n",
    "           ncol=1, shadow=True, title=\"Legend\", fancybox=True)\n",
    "\n",
    "def keepLRrange(aToy,theValue,larger):\n",
    "    aToyFiltered=[]\n",
    "    for oneValue in aToy:\n",
    "        if ((larger*oneValue)>(larger*theValue)):\n",
    "            aToyFiltered.append(oneValue)\n",
    "    return aToyFiltered\n",
    "\n",
    "def histoIntegral(aToy):\n",
    "    intValue=0\n",
    "    for aValue in aToy:\n",
    "        intValue=intValue+aValue\n",
    "    return intValue\n",
    "\n",
    "bgOnlyValLargerThanData=keepLRrange(LRbgOnly,round(valueLikelyhoodRatio),-1)\n",
    "histoValsBgOnlyLargerData,LRBins,patchBgOnly = hist(bgOnlyValLargerThanData,LRbins,histtype='bar',color='blue')\n",
    "\n",
    "sigBgValLargerThanData=keepLRrange(LRsigBg,round(valueLikelyhoodRatio),1)\n",
    "histoValsSigBgLargerData,LRBins,patchSigBg = hist(sigBgValLargerThanData,LRbins,histtype='bar',color='green',)"
   ]
  },
  {
   "cell_type": "code",
   "execution_count": 15,
   "metadata": {
    "collapsed": false
   },
   "outputs": [
    {
     "name": "stdout",
     "output_type": "stream",
     "text": [
      "p0= 0.0361\n",
      "p1= 0.2739\n",
      "p0= 0.0361 1.79785492959 sigma\n",
      "p1= 0.2739 0.601060036145 sigma\n"
     ]
    }
   ],
   "source": [
    "p0 = histoIntegral(histoValsBgOnlyLargerData)/histoIntegral(histoValsBgOnly)\n",
    "print(\"p0=\",p0)\n",
    "\n",
    "p1 = histoIntegral(histoValsSigBgLargerData)/histoIntegral(histoValsSigBg)\n",
    "print(\"p1=\",p1)\n",
    "\n",
    "\n",
    "from scipy.special import erfinv\n",
    "pValInSigma = lambda x:np.sqrt(2)*erfinv(1-2*x)\n",
    "\n",
    "p0 = histoIntegral(histoValsBgOnlyLargerData)/histoIntegral(histoValsBgOnly)\n",
    "print(\"p0=\",p0, pValInSigma(p0), \"sigma\")\n",
    "\n",
    "p1 = histoIntegral(histoValsSigBgLargerData)/histoIntegral(histoValsSigBg)\n",
    "print(\"p1=\",p1, pValInSigma(p1), \"sigma\")"
   ]
  },
  {
   "cell_type": "code",
   "execution_count": 16,
   "metadata": {
    "collapsed": false
   },
   "outputs": [
    {
     "name": "stdout",
     "output_type": "stream",
     "text": [
      "p0= 0.0078 2.41814171322 sigma\n",
      "p1= 0.5001 -0.000250662830088 sigma\n"
     ]
    },
    {
     "data": {
      "image/png": "[encoded data removed]",
      "text/plain": [
       "<matplotlib.figure.Figure at 0x11170e3c8>"
      ]
     },
     "metadata": {},
     "output_type": "display_data"
    }
   ],
   "source": [
    "histoValsBgOnly,LRBins,patchBg = plt.hist(LRbgOnly,LRbins,histtype='step',label='H0')\n",
    "histoValsSigBg,LRBins,patchSigBg = plt.hist(LRsigBg,LRbins,histtype='step',label='H1')\n",
    "plt.legend(loc=\"upper left\", bbox_to_anchor=[0, 1],\n",
    "           ncol=1, shadow=True, title=\"Legend\", fancybox=True)\n",
    "\n",
    "bgOnlyValLargerThanData=keepLRrange(LRbgOnly,round(median(LRsigBg)),-1)\n",
    "histoValsBgOnlyLargerData,LRBins,patchBgOnly = hist(bgOnlyValLargerThanData,LRbins,histtype='bar',color='blue')\n",
    "\n",
    "\n",
    "sigBgValLargerThanData=keepLRrange(LRsigBg,round(median(LRsigBg)),1)\n",
    "histoValsSigBgLargerData,LRBins,patchSigBg = hist(sigBgValLargerThanData,LRbins,histtype='bar',color='green')\n",
    "\n",
    "p0 = histoIntegral(histoValsBgOnlyLargerData)/histoIntegral(histoValsBgOnly)\n",
    "print(\"p0=\",p0, pValInSigma(p0), \"sigma\")\n",
    "\n",
    "p1 = histoIntegral(histoValsSigBgLargerData)/histoIntegral(histoValsSigBg)\n",
    "print(\"p1=\",p1, pValInSigma(p1), \"sigma\")"
   ]
  },
  {
   "cell_type": "markdown",
   "metadata": {},
   "source": [
    "<h4> Profile likelihood</h4>"
   ]
  },
  {
   "cell_type": "code",
   "execution_count": 17,
   "metadata": {
    "collapsed": true
   },
   "outputs": [],
   "source": [
    "def minusLogLikelyhood(mu,data,modelSig,modelBg,NbSigEvent,NbBgEvent):\n",
    "    nbBin=len(data)\n",
    "    LikelyValue=(NbBgEvent+mu*NbSigEvent)\n",
    "    for i in range(0,nbBin):\n",
    "        #print(i) \n",
    "        if data[i]<=0:\n",
    "            continue\n",
    "        sumLogD=0\n",
    "        #for j in range(1,data[i]+1):\n",
    "        #    sumLogD=sumLogD+np.log(j)\n",
    "        LikelyValue=LikelyValue+(sumLogD-data[i]*np.log(NbBgEvent*modelBg[i]+mu*NbSigEvent*modelSig[i]))\n",
    "    return LikelyValue\n"
   ]
  },
  {
   "cell_type": "code",
   "execution_count": 18,
   "metadata": {
    "collapsed": false
   },
   "outputs": [
    {
     "data": {
      "image/png": "[encoded data removed]",
      "text/plain": [
       "<matplotlib.figure.Figure at 0x11077d898>"
      ]
     },
     "metadata": {},
     "output_type": "display_data"
    }
   ],
   "source": [
    "n = 1000\n",
    "mu = np.linspace(0,3,n)\n",
    "Nbg = np.linspace(4500,5500,n)\n",
    "X,Y = np.meshgrid(mu,Nbg)\n",
    "\n",
    "contourf(X, Y, minusLogLikelyhood(X,dataHist,sigHisto_[1], bgHisto_[1],NbSigEvent_,Y), 8, alpha=.75, cmap='jet')\n",
    "show()"
   ]
  },
  {
   "cell_type": "code",
   "execution_count": null,
   "metadata": {
    "collapsed": true
   },
   "outputs": [],
   "source": []
  }
 ],
 "metadata": {
  "anaconda-cloud": {},
  "kernelspec": {
   "display_name": "Python [Root]",
   "language": "python",
   "name": "Python [Root]"
  },
  "language_info": {
   "codemirror_mode": {
    "name": "ipython",
    "version": 3
   },
   "file_extension": ".py",
   "mimetype": "text/x-python",
   "name": "python",
   "nbconvert_exporter": "python",
   "pygments_lexer": "ipython3",
   "version": "3.5.2"
  }
 },
 "nbformat": 4,
 "nbformat_minor": 0
}
