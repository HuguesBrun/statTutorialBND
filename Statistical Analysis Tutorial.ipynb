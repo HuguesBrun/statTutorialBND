{
 "cells": [
  {
   "cell_type": "markdown",
   "metadata": {},
   "source": [
    "<center><h1>Example of statistical analysis:</h1>\n",
    "<h2>Search of gaussian signal in an exponentially decreasing background</h2> "
   ]
  },
  {
   "cell_type": "markdown",
   "metadata": {},
   "source": [
    "<h3>1. Tools and functions definitions: </h3>"
   ]
  },
  {
   "cell_type": "markdown",
   "metadata": {},
   "source": [
    "<h4> loading the tools: </h4>"
   ]
  },
  {
   "cell_type": "code",
   "execution_count": 1,
   "metadata": {
    "collapsed": false
   },
   "outputs": [
    {
     "name": "stdout",
     "output_type": "stream",
     "text": [
      "Populating the interactive namespace from numpy and matplotlib\n"
     ]
    }
   ],
   "source": [
    "# Native Python modules\n",
    "import os, sys, csv, string\n",
    "\n",
    "# Scipy/Numpy modules\n",
    "import numpy as np\n",
    "import scipy as sp\n",
    "import matplotlib.pyplot as plt\n",
    "#get the plots in the notebook\n",
    "%pylab inline"
   ]
  },
  {
   "cell_type": "markdown",
   "metadata": {},
   "source": [
    "<h4>Functions definitions </h4>"
   ]
  },
  {
   "cell_type": "code",
   "execution_count": 2,
   "metadata": {
    "collapsed": true
   },
   "outputs": [],
   "source": [
    "def bgFunc(alpha):\n",
    "    return lambda x: 1.0/alpha*np.exp(-x/alpha)\n",
    "def sigFunc(mu, sigma):\n",
    "    return lambda x: 1.0/(np.sqrt(2*np.pi)*sigma)*np.exp(-np.power((x-mu),2)/(2*np.power(sigma,2)))"
   ]
  },
  {
   "cell_type": "code",
   "execution_count": 4,
   "metadata": {
    "collapsed": false
   },
   "outputs": [],
   "source": [
    "bg=bgFunc(25)\n",
    "sg=sigFunc(15,2)"
   ]
  },
  {
   "cell_type": "markdown",
   "metadata": {},
   "source": [
    "<h4>generate the signal and background histograms</h4>"
   ]
  },
  {
   "cell_type": "code",
   "execution_count": 5,
   "metadata": {
    "collapsed": true
   },
   "outputs": [],
   "source": [
    "def generateHisto(xRange,nbBins,func):\n",
    "    binSize=(xRange[1]-xRange[0])/nbBins\n",
    "    xBinLow=[]\n",
    "    xiVal=[]\n",
    "    xWidth=[]\n",
    "    #first check which scale should be applied to the histogram\n",
    "    histoIntegral=0\n",
    "    for i in range(0,nbBins):\n",
    "        xi=xRange[0]+1.0*i*binSize+1.0*binSize/2\n",
    "        histoIntegral=histoIntegral+func(xi)\n",
    "    #compute the scale to apply to the histo\n",
    "    reScale=1./histoIntegral\n",
    "    #now generate the histo\n",
    "    for i in range(0,nbBins):\n",
    "        xBinLow.append(xRange[0]+i*binSize)\n",
    "        xi=xRange[0]+1.0*i*binSize+1.0*binSize/2\n",
    "        xiVal.append(reScale*func(xi))\n",
    "        xWidth.append(binSize)\n",
    "    return [xBinLow, xiVal, xWidth]\n",
    "\n"
   ]
  },
  {
   "cell_type": "code",
   "execution_count": 6,
   "metadata": {
    "collapsed": false
   },
   "outputs": [
    {
     "name": "stdout",
     "output_type": "stream",
     "text": [
      "sumSig= 1.0 sumBg= 1.0\n"
     ]
    },
    {
     "data": {
      "image/png": "[encoded data removed]",
      "text/plain": [
       "<matplotlib.figure.Figure at 0x10a7239b0>"
      ]
     },
     "metadata": {},
     "output_type": "display_data"
    }
   ],
   "source": [
    "bgHisto_=generateHisto([0,100],100,bg)\n",
    "sigHisto_=generateHisto([0,100],100,sg)\n",
    " \n",
    "plt.bar(bgHisto_[0], bgHisto_[1], width=bgHisto_[2])     \n",
    "plt.bar(sigHisto_[0], sigHisto_[1], width=sigHisto_[2],color='r')     \n",
    "\n",
    "print('sumSig=',sum(sigHisto_[1]), 'sumBg=', sum(bgHisto_[1]))\n",
    "\n"
   ]
  },
  {
   "cell_type": "code",
   "execution_count": 7,
   "metadata": {
    "collapsed": false
   },
   "outputs": [
    {
     "data": {
      "text/plain": [
       "<Container object of 100 artists>"
      ]
     },
     "execution_count": 7,
     "metadata": {},
     "output_type": "execute_result"
    },
    {
     "data": {
      "image/png": "[encoded data removed]",
      "text/plain": [
       "<matplotlib.figure.Figure at 0x10a71e390>"
      ]
     },
     "metadata": {},
     "output_type": "display_data"
    }
   ],
   "source": [
    "NbBgEvent_=5000\n",
    "NbSigEvent_=70\n",
    "\n",
    "sigHistoNormed=[x * NbSigEvent_ for x in sigHisto_[1]]\n",
    "bgHistoNormed=[x * NbBgEvent_ for x in bgHisto_[1]]\n",
    "\n",
    "\n",
    "sumSigBg=list(map(add,sigHistoNormed, bgHistoNormed))\n",
    "plt.bar(sigHisto_[0], sumSigBg, width=sigHisto_[2],color='g')     \n",
    "plt.bar(bgHisto_[0], bgHistoNormed, width=bgHisto_[2])     \n",
    "plt.bar(sigHisto_[0], sigHistoNormed, width=sigHisto_[2],color='r')"
   ]
  },
  {
   "cell_type": "markdown",
   "metadata": {},
   "source": [
    "<h4>loading the data </h4>"
   ]
  },
  {
   "cell_type": "code",
   "execution_count": 8,
   "metadata": {
    "collapsed": false
   },
   "outputs": [],
   "source": [
    "dataHist=[183, 203, 189, 178, 169, 187, 156, 150, 164, 141, 153, 123, 122, 122, 117, 128, 125, 99, 91, 93, 85, 100, 91, 64, 80, 66, 69, 65, 64, 59, 64, 58, 55, 47, 52, 36, 54, 47, 53, 42, 34, 40, 45, 40, 32, 40, 24, 29, 30, 28, 19, 27, 23, 26, 23, 22, 28, 20, 13, 16, 13, 15, 15, 20, 18, 12, 13, 11, 13, 10, 9, 16, 10, 13, 6, 8, 13, 14, 4, 4, 9, 3, 10, 10, 8, 6, 11, 9, 6, 4, 6, 4, 9, 3, 5, 10, 5, 5, 5, 4]"
   ]
  },
  {
   "cell_type": "code",
   "execution_count": 9,
   "metadata": {
    "collapsed": false
   },
   "outputs": [
    {
     "data": {
      "text/plain": [
       "<Container object of 100 artists>"
      ]
     },
     "execution_count": 9,
     "metadata": {},
     "output_type": "execute_result"
    },
    {
     "data": {
      "image/png": "[encoded data removed]",
      "text/plain": [
       "<matplotlib.figure.Figure at 0x10fc17208>"
      ]
     },
     "metadata": {},
     "output_type": "display_data"
    }
   ],
   "source": [
    "plt.bar(sigHisto_[0], dataHist, width=sigHisto_[2],color='g')  "
   ]
  },
  {
   "cell_type": "markdown",
   "metadata": {},
   "source": [
    "<h4>Generate pseudo-data</h4>"
   ]
  },
  {
   "cell_type": "code",
   "execution_count": 12,
   "metadata": {
    "collapsed": false
   },
   "outputs": [
    {
     "data": {
      "text/plain": [
       "<Container object of 100 artists>"
      ]
     },
     "execution_count": 12,
     "metadata": {},
     "output_type": "execute_result"
    },
    {
     "data": {
      "image/png": "[encoded data removed]",
      "text/plain": [
       "<matplotlib.figure.Figure at 0x1101f4978>"
      ]
     },
     "metadata": {},
     "output_type": "display_data"
    }
   ],
   "source": [
    "def pseudoDataFromHisto(histoSig,histoBg, NbSigEvent,NbBgEvent, mu):\n",
    "    smearedHisto=[]\n",
    "    sigHistoNormed=[x * NbSigEvent* mu for x in histoSig]\n",
    "    bgHistoNormed=[x * NbBgEvent for x in histoBg]\n",
    "    theHisto=map(add,sigHistoNormed, bgHistoNormed)\n",
    "    for aBin in theHisto:\n",
    "        smearedHisto.append(np.random.poisson(aBin,1)[0])\n",
    "    return smearedHisto\n",
    "\n",
    "myPseudoDataTest=pseudoDataFromHisto(sigHisto_[1],bgHisto_[1],NbSigEvent_, NbBgEvent_,1)\n",
    "plt.bar(sigHisto_[0], myPseudoDataTest, width=sigHisto_[2],color='g')  \n"
   ]
  },
  {
   "cell_type": "markdown",
   "metadata": {},
   "source": [
    "<h3>2. Likelyhood ratio</h3>"
   ]
  },
  {
   "cell_type": "markdown",
   "metadata": {},
   "source": [
    "<h4>Define and compute the likelyhood ration </h4>"
   ]
  },
  {
   "cell_type": "markdown",
   "metadata": {},
   "source": [
    "$$L_{\\mu \\times s + b}(data) = \\prod_{i \\in bins} P_{Poisson}\\left(d_{i} | \\mu \\times s_{i} + b_{i}\\right) $$\n",
    "$$L_{\\mu \\times s + b}(data) = \\prod_{i \\in bins} \\frac{\\left(\\mu \\times s_{i} + b_{i}\\right)^{d_{i}}}{d_{i}!}\\times e^{-\\left(\\mu \\times s_{i} + b_{i}\\right)} $$\n",
    "$$\\frac{L_{s+b}(data)}{L_{b}(data)} =  \\prod_{i \\in bins} \\frac{\\frac{\\left( s_{i} + b_{i}\\right)^{d_{i}}}{d_{i}!}\\times e^{s_{i} + b_{i}}}{\\frac{\\left(b_{i}\\right)^{d_{i}}}{d_{i}!}\\times e^{b_{i}}} = \\prod_{i \\in bins} \\left(1+\\frac{s_{i}}{b_{i}}\\right)^{d_{i}}\\times e^{-s_{i}}$$\n",
    "$$Q=-2\\times ln \\left(\\frac{L_{s+b}(data)}{L_{b}(data)}\\right) = 2s - 2\\times \\sum_{i \\in bins} d_{i}\\times ln\\left(1+\\frac{s_{i}}{b_{i}}\\right)  $$"
   ]
  },
  {
   "cell_type": "code",
   "execution_count": 14,
   "metadata": {
    "collapsed": false
   },
   "outputs": [
    {
     "name": "stdout",
     "output_type": "stream",
     "text": [
      "-2.70903320646\n"
     ]
    }
   ],
   "source": [
    "def likelyhoodRatio(data,modelSig,modelBg,NbSigEvent,NbBgEvent):\n",
    "    nbBin=len(data)\n",
    "    LikelyValue=(NbSigEvent)\n",
    "    for i in range(0,nbBin):\n",
    "        LikelyValue=LikelyValue-(data[i]*np.log(1+NbSigEvent*modelSig[i]/(NbBgEvent*modelBg[i])))\n",
    "    return 2*LikelyValue\n",
    "\n",
    "valueLikelyhoodRatio=likelyhoodRatio(dataHist,sigHisto_[1],bgHisto_[1],NbSigEvent_, NbBgEvent_)\n",
    "\n",
    "print(valueLikelyhoodRatio)"
   ]
  },
  {
   "cell_type": "code",
   "execution_count": null,
   "metadata": {
    "collapsed": true
   },
   "outputs": [],
   "source": [
    "\n"
   ]
  }
 ],
 "metadata": {
  "anaconda-cloud": {},
  "kernelspec": {
   "display_name": "Python [Root]",
   "language": "python",
   "name": "Python [Root]"
  },
  "language_info": {
   "codemirror_mode": {
    "name": "ipython",
    "version": 3
   },
   "file_extension": ".py",
   "mimetype": "text/x-python",
   "name": "python",
   "nbconvert_exporter": "python",
   "pygments_lexer": "ipython3",
   "version": "3.5.2"
  }
 },
 "nbformat": 4,
 "nbformat_minor": 0
}
