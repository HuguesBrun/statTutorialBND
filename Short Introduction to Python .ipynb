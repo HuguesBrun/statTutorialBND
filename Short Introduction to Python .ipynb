{
 "cells": [
  {
   "cell_type": "markdown",
   "metadata": {},
   "source": [
    "This part of the tutorial is a short introduction to the tools and commands that will be needed during the statistic tutorial"
   ]
  },
  {
   "cell_type": "markdown",
   "metadata": {
    "nbpresent": {
     "id": "14e2d6c6-ce1d-4eba-b462-e215d8bcbbf3"
    }
   },
   "source": [
    "<H2>1. Basics of python </H2>"
   ]
  },
  {
   "cell_type": "markdown",
   "metadata": {
    "nbpresent": {
     "id": "00d9bb07-d07f-4ef6-9f7e-fb07ea41901b"
    }
   },
   "source": [
    "<h3>a. Manipulating variables</h3>"
   ]
  },
  {
   "cell_type": "code",
   "execution_count": null,
   "metadata": {
    "collapsed": false,
    "nbpresent": {
     "id": "6c71f004-8227-4737-9f1d-41a329530720"
    }
   },
   "outputs": [],
   "source": [
    "a=5\n",
    "b=6\n",
    "print(a*b)"
   ]
  },
  {
   "cell_type": "code",
   "execution_count": null,
   "metadata": {
    "collapsed": false,
    "nbpresent": {
     "id": "24a158cd-ada8-472d-a7a9-00bcc06bef65"
    }
   },
   "outputs": [],
   "source": [
    "c=a/2\n",
    "print(c)"
   ]
  },
  {
   "cell_type": "code",
   "execution_count": null,
   "metadata": {
    "collapsed": false,
    "nbpresent": {
     "id": "3321db8b-b3f3-4259-ae32-be3f23c9a32c"
    }
   },
   "outputs": [],
   "source": [
    "print(a//2,a%2)"
   ]
  },
  {
   "cell_type": "code",
   "execution_count": null,
   "metadata": {
    "collapsed": false,
    "nbpresent": {
     "id": "23f7257c-a6cd-4e13-90d2-4ef97738a2f9"
    }
   },
   "outputs": [],
   "source": [
    "d=\"Hello \"\n",
    "e=\"World !!!\"\n",
    "print(d+e)"
   ]
  },
  {
   "cell_type": "markdown",
   "metadata": {
    "nbpresent": {
     "id": "d6328946-0194-46f2-a8e2-a18b57b8e07b"
    }
   },
   "source": [
    "<h3>b. Types</h3>"
   ]
  },
  {
   "cell_type": "code",
   "execution_count": null,
   "metadata": {
    "collapsed": false,
    "nbpresent": {
     "id": "8be803de-a553-4276-8339-bae9871d18ac"
    }
   },
   "outputs": [],
   "source": [
    "print(\"c=\"+c)"
   ]
  },
  {
   "cell_type": "code",
   "execution_count": null,
   "metadata": {
    "collapsed": false,
    "nbpresent": {
     "id": "ff08b39b-af1a-4dd3-9cf7-4ad37242c634"
    }
   },
   "outputs": [],
   "source": [
    "print(int(c))"
   ]
  },
  {
   "cell_type": "code",
   "execution_count": null,
   "metadata": {
    "collapsed": false,
    "nbpresent": {
     "id": "f55aea7a-9c72-4708-aaf0-9ac75aa52888"
    }
   },
   "outputs": [],
   "source": [
    "print(type(c),type(int(c)))"
   ]
  },
  {
   "cell_type": "markdown",
   "metadata": {
    "nbpresent": {
     "id": "3be6b78a-cd64-4f5e-b73e-a5af94a634c8"
    }
   },
   "source": [
    "<h3>c. Listes </h3>"
   ]
  },
  {
   "cell_type": "code",
   "execution_count": null,
   "metadata": {
    "collapsed": false,
    "nbpresent": {
     "id": "9d0e38f6-72be-4fdc-95f9-ba9cfebb797d"
    }
   },
   "outputs": [],
   "source": [
    "list1=[3, 4, 6, 1, 7, 2, 4, 8, 9]\n",
    "print(list1)"
   ]
  },
  {
   "cell_type": "code",
   "execution_count": null,
   "metadata": {
    "collapsed": false,
    "nbpresent": {
     "id": "55344d0f-8ff8-484f-b04a-c27129ef7d96"
    }
   },
   "outputs": [],
   "source": [
    "list2=[3, 'four', 6, 'one', 7, 'two', 4, 8, 9]\n",
    "print(list2)"
   ]
  },
  {
   "cell_type": "code",
   "execution_count": null,
   "metadata": {
    "collapsed": false,
    "nbpresent": {
     "id": "ab230ec7-f8ff-4358-af4f-609a9091760d"
    }
   },
   "outputs": [],
   "source": [
    "print(len(list2))"
   ]
  },
  {
   "cell_type": "code",
   "execution_count": null,
   "metadata": {
    "collapsed": false,
    "nbpresent": {
     "id": "1e6052f3-cf19-4b0a-a0fd-6ffbcf5628e5"
    }
   },
   "outputs": [],
   "source": [
    "print(type(list1),type(list2))"
   ]
  },
  {
   "cell_type": "code",
   "execution_count": null,
   "metadata": {
    "collapsed": false,
    "nbpresent": {
     "id": "5e347e9d-e72e-47cc-93e5-a4e4a25158d7"
    }
   },
   "outputs": [],
   "source": [
    "print(list2[1])"
   ]
  },
  {
   "cell_type": "code",
   "execution_count": null,
   "metadata": {
    "collapsed": false,
    "nbpresent": {
     "id": "2cb06559-55bb-4f6f-97b7-4b75128c26ce"
    }
   },
   "outputs": [],
   "source": [
    "print(list2[1:])"
   ]
  },
  {
   "cell_type": "code",
   "execution_count": null,
   "metadata": {
    "collapsed": false,
    "nbpresent": {
     "id": "7a6ba7e3-7600-4360-a5f6-03c8946a5f29"
    }
   },
   "outputs": [],
   "source": [
    "print(list2[1:-3])"
   ]
  },
  {
   "cell_type": "code",
   "execution_count": null,
   "metadata": {
    "collapsed": false,
    "nbpresent": {
     "id": "489ff468-70be-43ef-b4c5-1283c745a9da"
    }
   },
   "outputs": [],
   "source": [
    "print(list2[-3])"
   ]
  },
  {
   "cell_type": "code",
   "execution_count": null,
   "metadata": {
    "collapsed": false,
    "nbpresent": {
     "id": "a4484f38-0880-4880-bf52-bfc606db0ddb"
    }
   },
   "outputs": [],
   "source": [
    "list1.append('ten')\n",
    "print(list1)"
   ]
  },
  {
   "cell_type": "code",
   "execution_count": null,
   "metadata": {
    "collapsed": false,
    "nbpresent": {
     "id": "a6685944-04c0-40a0-a8c1-29f48b022bee"
    }
   },
   "outputs": [],
   "source": [
    "list1.remove('ten')\n",
    "print(list1)"
   ]
  },
  {
   "cell_type": "code",
   "execution_count": null,
   "metadata": {
    "collapsed": false,
    "nbpresent": {
     "id": "4ce5d262-084b-48b1-9b56-95852b059d14"
    }
   },
   "outputs": [],
   "source": [
    "print(list1)"
   ]
  },
  {
   "cell_type": "code",
   "execution_count": null,
   "metadata": {
    "collapsed": false,
    "nbpresent": {
     "id": "c3ebc45e-b601-4d29-9897-79406e35d628"
    }
   },
   "outputs": [],
   "source": [
    "list3=[5,4,3,2,1,3,0]\n",
    "print(list1+list3)"
   ]
  },
  {
   "cell_type": "code",
   "execution_count": null,
   "metadata": {
    "collapsed": false,
    "nbpresent": {
     "id": "e33a88d9-7cf3-4d6c-a3f5-dcc097389988"
    }
   },
   "outputs": [],
   "source": [
    "from operator import add\n",
    "listSum=list(map(add,list1,list3))\n",
    "print(listSum)"
   ]
  },
  {
   "cell_type": "code",
   "execution_count": null,
   "metadata": {
    "collapsed": false,
    "nbpresent": {
     "id": "dbc3f073-1920-4562-83c5-8a9b414b1c94"
    }
   },
   "outputs": [],
   "source": [
    "print(list(range(0,10)))"
   ]
  },
  {
   "cell_type": "markdown",
   "metadata": {
    "nbpresent": {
     "id": "d86a68e5-be21-4164-9aee-0bc974b74b29"
    }
   },
   "source": [
    "<h3>d. Conditions</h3>"
   ]
  },
  {
   "cell_type": "markdown",
   "metadata": {
    "nbpresent": {
     "id": "1a5a8c04-8d1c-48e1-8d8a-60622e544565"
    }
   },
   "source": [
    "**Python Operators**  \n",
    "<code>== (Equal)      != (Not Equal)      < (Less)      > (Greater)      <= (Less than or equal)      >= (Greater than or equal)</code>"
   ]
  },
  {
   "cell_type": "code",
   "execution_count": null,
   "metadata": {
    "collapsed": false,
    "nbpresent": {
     "id": "4c0fa8b3-92ad-4462-92e9-af716e2f427e"
    }
   },
   "outputs": [],
   "source": [
    "f=3231\n",
    "if f%2==0 and f>1000:\n",
    "    print('true')\n",
    "else:\n",
    "    print('false')"
   ]
  },
  {
   "cell_type": "markdown",
   "metadata": {
    "nbpresent": {
     "id": "7b7c2518-6d09-4637-9990-cad597d7f304"
    }
   },
   "source": [
    "<h3>e. Loops</h3>"
   ]
  },
  {
   "cell_type": "code",
   "execution_count": null,
   "metadata": {
    "collapsed": false,
    "nbpresent": {
     "id": "a1b5ce7d-ad3d-41e8-ba4e-17fa8cc474ce"
    }
   },
   "outputs": [],
   "source": [
    "n=0\n",
    "while n<10:\n",
    "    print(\"n=\",n)\n",
    "    n=n+1"
   ]
  },
  {
   "cell_type": "code",
   "execution_count": null,
   "metadata": {
    "collapsed": false,
    "nbpresent": {
     "id": "ed3d5353-a935-4d66-9e00-d137f2498183"
    }
   },
   "outputs": [],
   "source": [
    "for i in listSum:\n",
    "    print('i=',i)"
   ]
  },
  {
   "cell_type": "code",
   "execution_count": null,
   "metadata": {
    "collapsed": false,
    "nbpresent": {
     "id": "6b956d37-32bc-44bc-9e18-65e7cee70b07"
    }
   },
   "outputs": [],
   "source": [
    "squaredrange=[e**2 for e in range(0,10)]\n",
    "print(squaredrange)"
   ]
  },
  {
   "cell_type": "markdown",
   "metadata": {
    "nbpresent": {
     "id": "f7540eb4-cfc0-435d-b0c4-d07656bee666"
    }
   },
   "source": [
    "<h3>f. functions</h3>"
   ]
  },
  {
   "cell_type": "code",
   "execution_count": null,
   "metadata": {
    "collapsed": true,
    "nbpresent": {
     "id": "673e2c5f-747e-4460-b5ed-ee4796a329e1"
    }
   },
   "outputs": [],
   "source": [
    "def aFunction(var1):\n",
    "    outputValue=2*var1\n",
    "    return outputValue"
   ]
  },
  {
   "cell_type": "code",
   "execution_count": null,
   "metadata": {
    "collapsed": false,
    "nbpresent": {
     "id": "1ecb2ae3-5223-4f49-9f7a-53131c06bf79"
    }
   },
   "outputs": [],
   "source": [
    "print(listSum)\n",
    "print(list(map(aFunction,listSum)))"
   ]
  },
  {
   "cell_type": "code",
   "execution_count": null,
   "metadata": {
    "collapsed": false,
    "nbpresent": {
     "id": "a3d22f98-ad7c-4aae-af9d-f25bf13e4499"
    }
   },
   "outputs": [],
   "source": [
    "multiplyBy2 = lambda x:2*x\n",
    "print(list(map(aFunction,listSum)))"
   ]
  },
  {
   "cell_type": "code",
   "execution_count": null,
   "metadata": {
    "collapsed": false,
    "nbpresent": {
     "id": "65b7f5ee-367e-4a73-8b47-deb6678de446"
    }
   },
   "outputs": [],
   "source": [
    "def multiplyByN(N):\n",
    "    return lambda x:N*x\n",
    "print(list(map(multiplyByN(3),listSum)))"
   ]
  },
  {
   "cell_type": "code",
   "execution_count": null,
   "metadata": {
    "collapsed": false,
    "nbpresent": {
     "id": "fcea52d1-7f69-448c-b469-95d89a729f82"
    }
   },
   "outputs": [],
   "source": [
    "f2var = lambda x:x[0]+3*x[1]\n",
    "\n",
    "list4=[3,1]\n",
    "print(f2var(list4))"
   ]
  },
  {
   "cell_type": "markdown",
   "metadata": {
    "nbpresent": {
     "id": "5dce8b62-8ff6-402e-8f33-92b4ba4b8c6b"
    }
   },
   "source": [
    "<h2>2. Plots in Python </h2>"
   ]
  },
  {
   "cell_type": "code",
   "execution_count": null,
   "metadata": {
    "collapsed": false,
    "nbpresent": {
     "id": "690163dc-1c5a-48ab-b567-ef3f43bed3a8"
    }
   },
   "outputs": [],
   "source": [
    "# Native Python modules\n",
    "import os, sys, csv, string\n",
    "# Scipy/Numpy modules\n",
    "import numpy as np\n",
    "import scipy as sp\n",
    "import matplotlib.pyplot as plt\n",
    "#get the plots in the notebook\n",
    "%pylab inline"
   ]
  },
  {
   "cell_type": "markdown",
   "metadata": {},
   "source": [
    "<h3>Ploting functions</h3>"
   ]
  },
  {
   "cell_type": "code",
   "execution_count": null,
   "metadata": {
    "collapsed": true,
    "nbpresent": {
     "id": "b85b3458-64de-4051-8839-1cad4429d0af"
    }
   },
   "outputs": [],
   "source": [
    "f=lambda x:np.exp(-np.power((x-17),2)/(2*np.power(1,2)))"
   ]
  },
  {
   "cell_type": "code",
   "execution_count": null,
   "metadata": {
    "collapsed": false,
    "nbpresent": {
     "id": "c2e51e2d-f311-4baf-b45d-ce2225236582"
    }
   },
   "outputs": [],
   "source": [
    "x=np.linspace(0,25,100)\n",
    "plt.plot(x,f(x))\n",
    "g=lambda x:np.exp(-np.power((x-10),2)/(2*np.power(2,2)))\n",
    "plt.plot(x,g(x),)"
   ]
  },
  {
   "cell_type": "markdown",
   "metadata": {},
   "source": [
    "<h3>Bar plot (or histogram from per bin values)</h3>"
   ]
  },
  {
   "cell_type": "code",
   "execution_count": null,
   "metadata": {
    "collapsed": false,
    "nbpresent": {
     "id": "5f6becbe-c42b-4eca-b022-57cade7bebbe"
    }
   },
   "outputs": [],
   "source": [
    "\n",
    "xValues = [0.25*x for x in range(0,101)]\n",
    "print(xValues,len(xValues))"
   ]
  },
  {
   "cell_type": "code",
   "execution_count": null,
   "metadata": {
    "collapsed": false
   },
   "outputs": [],
   "source": [
    "fValues=list(map(f,xValues))"
   ]
  },
  {
   "cell_type": "code",
   "execution_count": null,
   "metadata": {
    "collapsed": false
   },
   "outputs": [],
   "source": [
    "from operator import sub\n",
    "binWidth=list(map(sub,xValues[1:],xValues[:-1]))\n",
    "print(binWidth,len(binWidth))"
   ]
  },
  {
   "cell_type": "code",
   "execution_count": null,
   "metadata": {
    "collapsed": false
   },
   "outputs": [],
   "source": [
    "plt.bar(xValues[:-1], fValues[:-1], width=binWidth) "
   ]
  },
  {
   "cell_type": "code",
   "execution_count": null,
   "metadata": {
    "collapsed": false
   },
   "outputs": [],
   "source": [
    "gValues=list(map(g,xValues))\n",
    "plt.bar(xValues[:-1], fValues[:-1], width=binWidth) \n",
    "plt.bar(xValues[:-1], gValues[:-1], width=binWidth, color='red',edgecolor='red',alpha=0.5) "
   ]
  },
  {
   "cell_type": "markdown",
   "metadata": {},
   "source": [
    "<h3>Histogram from a list</h3>"
   ]
  },
  {
   "cell_type": "code",
   "execution_count": null,
   "metadata": {
    "collapsed": false
   },
   "outputs": [],
   "source": [
    "poissonBin=np.random.poisson(1000,100000)\n",
    "n, bins, patches=plt.hist(poissonBin,histtype='step',bins=100)"
   ]
  },
  {
   "cell_type": "code",
   "execution_count": null,
   "metadata": {
    "collapsed": true
   },
   "outputs": [],
   "source": [
    "print(poissonHisto)"
   ]
  }
 ],
 "metadata": {
  "anaconda-cloud": {},
  "kernelspec": {
   "display_name": "Python [Root]",
   "language": "python",
   "name": "Python [Root]"
  },
  "language_info": {
   "codemirror_mode": {
    "name": "ipython",
    "version": 3
   },
   "file_extension": ".py",
   "mimetype": "text/x-python",
   "name": "python",
   "nbconvert_exporter": "python",
   "pygments_lexer": "ipython3",
   "version": "3.5.2"
  },
  "nbpresent": {
   "slides": {
    "07d4bf0f-76dc-4119-b82c-a43d2fcd47be": {
     "id": "07d4bf0f-76dc-4119-b82c-a43d2fcd47be",
     "prev": null,
     "regions": {
      "a622db39-311b-4717-866f-d7cf1e7a7862": {
       "attrs": {
        "height": 0.8,
        "width": 0.8,
        "x": 0.1,
        "y": 0.1
       },
       "content": {
        "cell": "14e2d6c6-ce1d-4eba-b462-e215d8bcbbf3",
        "part": "whole"
       },
       "id": "a622db39-311b-4717-866f-d7cf1e7a7862"
      }
     }
    },
    "08d63523-b8ac-4a79-a7bb-7c0d6e6cb22a": {
     "id": "08d63523-b8ac-4a79-a7bb-7c0d6e6cb22a",
     "prev": "b3092392-8945-4c2b-88c1-950e39b79dd5",
     "regions": {
      "40e5f907-0c6d-4777-a10f-4a734aeea6f6": {
       "attrs": {
        "height": 0.8,
        "width": 0.8,
        "x": 0.1,
        "y": 0.1
       },
       "content": {
        "cell": "c3ebc45e-b601-4d29-9897-79406e35d628",
        "part": "whole"
       },
       "id": "40e5f907-0c6d-4777-a10f-4a734aeea6f6"
      }
     }
    },
    "08dd87e8-0fb8-4b75-803a-bf5baf9179a1": {
     "id": "08dd87e8-0fb8-4b75-803a-bf5baf9179a1",
     "prev": "70e434f7-1faa-4a08-a301-28978fc8a6f9",
     "regions": {
      "6669abaa-1b0b-46a9-aaa0-715f262d46d1": {
       "attrs": {
        "height": 0.8,
        "width": 0.8,
        "x": 0.1,
        "y": 0.1
       },
       "content": {
        "cell": "6b956d37-32bc-44bc-9e18-65e7cee70b07",
        "part": "whole"
       },
       "id": "6669abaa-1b0b-46a9-aaa0-715f262d46d1"
      }
     }
    },
    "0a050934-0822-4e78-bb19-73992e0aad40": {
     "id": "0a050934-0822-4e78-bb19-73992e0aad40",
     "prev": "d149a396-4484-44df-954f-aa2a7f005233",
     "regions": {
      "d39df3da-cc57-4f46-a147-d10ea10bdb65": {
       "attrs": {
        "height": 0.8,
        "width": 0.8,
        "x": 0.1,
        "y": 0.1
       },
       "content": {
        "cell": "7a6ba7e3-7600-4360-a5f6-03c8946a5f29",
        "part": "whole"
       },
       "id": "d39df3da-cc57-4f46-a147-d10ea10bdb65"
      }
     }
    },
    "11cc04f9-46c1-4784-a2f6-7eb0a5c2eb94": {
     "id": "11cc04f9-46c1-4784-a2f6-7eb0a5c2eb94",
     "prev": "0a050934-0822-4e78-bb19-73992e0aad40",
     "regions": {
      "9e57fae0-5981-4c6d-8354-6a9e638ab06a": {
       "attrs": {
        "height": 0.8,
        "width": 0.8,
        "x": 0.1,
        "y": 0.1
       },
       "content": {
        "cell": "489ff468-70be-43ef-b4c5-1283c745a9da",
        "part": "whole"
       },
       "id": "9e57fae0-5981-4c6d-8354-6a9e638ab06a"
      }
     }
    },
    "136c1a73-386d-4cd9-97e3-f07a0e2dc58e": {
     "id": "136c1a73-386d-4cd9-97e3-f07a0e2dc58e",
     "prev": "07d4bf0f-76dc-4119-b82c-a43d2fcd47be",
     "regions": {
      "ef063715-2227-49a3-a346-5b8c87e49911": {
       "attrs": {
        "height": 0.8000000000000002,
        "width": 0.8,
        "x": 0.048717948717948746,
        "y": 0.11919328235117703
       },
       "content": {
        "cell": "00d9bb07-d07f-4ef6-9f7e-fb07ea41901b",
        "part": "whole"
       },
       "id": "ef063715-2227-49a3-a346-5b8c87e49911"
      }
     }
    },
    "1974205e-adfd-45c9-b16c-3321c1faabe3": {
     "id": "1974205e-adfd-45c9-b16c-3321c1faabe3",
     "prev": "cc63c963-7215-48e0-a2f0-1275fd27a88f",
     "regions": {
      "b558586d-f0aa-4c90-9765-babe20b2a730": {
       "attrs": {
        "height": 0.8,
        "width": 0.8,
        "x": 0.1,
        "y": 0.1
       },
       "content": {
        "cell": "fcea52d1-7f69-448c-b469-95d89a729f82",
        "part": "whole"
       },
       "id": "b558586d-f0aa-4c90-9765-babe20b2a730"
      }
     }
    },
    "24160c2f-9153-4d16-bf71-60c9cef20b08": {
     "id": "24160c2f-9153-4d16-bf71-60c9cef20b08",
     "prev": "549b5c7d-ede8-4771-bfbc-fe64848c02e7",
     "regions": {
      "435f7a26-52aa-4b91-a557-55409e972c72": {
       "attrs": {
        "height": 0.8,
        "width": 0.8,
        "x": 0.1,
        "y": 0.1
       },
       "content": {
        "cell": "d6328946-0194-46f2-a8e2-a18b57b8e07b",
        "part": "whole"
       },
       "id": "435f7a26-52aa-4b91-a557-55409e972c72"
      }
     }
    },
    "3422e0d8-fde7-4e1e-9b07-1277892748c1": {
     "id": "3422e0d8-fde7-4e1e-9b07-1277892748c1",
     "prev": "d9569de9-1285-484d-9b89-7449a532e81c",
     "regions": {
      "2f604da1-2646-4641-859d-2a3652c9044b": {
       "attrs": {
        "height": 0.8,
        "width": 0.8,
        "x": 0.1,
        "y": 0.1
       },
       "content": {
        "cell": "24a158cd-ada8-472d-a7a9-00bcc06bef65",
        "part": "whole"
       },
       "id": "2f604da1-2646-4641-859d-2a3652c9044b"
      }
     }
    },
    "40c89eee-d7bb-4f52-9447-fd820f58eef5": {
     "id": "40c89eee-d7bb-4f52-9447-fd820f58eef5",
     "prev": "45c83520-9f0d-4104-a2f7-1b74b84ef6e2",
     "regions": {
      "c781202c-63e4-44c8-b7e8-45a9fc55721d": {
       "attrs": {
        "height": 0.8,
        "width": 0.8,
        "x": 0.1,
        "y": 0.1
       },
       "content": {
        "cell": "5f6becbe-c42b-4eca-b022-57cade7bebbe",
        "part": "whole"
       },
       "id": "c781202c-63e4-44c8-b7e8-45a9fc55721d"
      }
     }
    },
    "416c8461-0cf2-44b2-9a22-a50a7a5c2731": {
     "id": "416c8461-0cf2-44b2-9a22-a50a7a5c2731",
     "prev": "f9071dc5-0e51-422e-b7ea-0a9bd60db1ab",
     "regions": {
      "d385709d-9020-4a2d-9c89-248c3f3ef7e9": {
       "attrs": {
        "height": 0.8,
        "width": 0.8,
        "x": 0.1,
        "y": 0.1
       },
       "content": {
        "cell": "690163dc-1c5a-48ab-b567-ef3f43bed3a8",
        "part": "whole"
       },
       "id": "d385709d-9020-4a2d-9c89-248c3f3ef7e9"
      }
     }
    },
    "42bd3a9e-2580-4d78-bc30-3e95e0492de3": {
     "id": "42bd3a9e-2580-4d78-bc30-3e95e0492de3",
     "prev": "63f96d9d-988a-497c-89a4-8cab1e9141fc",
     "regions": {
      "fcc4b916-ebeb-4f9c-b9ff-0e39f2159ba0": {
       "attrs": {
        "height": 0.8,
        "width": 0.8,
        "x": 0.1,
        "y": 0.1
       },
       "content": {
        "cell": "5e347e9d-e72e-47cc-93e5-a4e4a25158d7",
        "part": "whole"
       },
       "id": "fcc4b916-ebeb-4f9c-b9ff-0e39f2159ba0"
      }
     }
    },
    "45c83520-9f0d-4104-a2f7-1b74b84ef6e2": {
     "id": "45c83520-9f0d-4104-a2f7-1b74b84ef6e2",
     "prev": "dc5832c5-7222-4508-b9b8-4c69d2f4f9b4",
     "regions": {
      "bc27fbf5-1bb4-4a7e-88d1-bf8806661d66": {
       "attrs": {
        "height": 0.8,
        "width": 0.8,
        "x": 0.1,
        "y": 0.1
       },
       "content": {
        "cell": "c2e51e2d-f311-4baf-b45d-ce2225236582",
        "part": "whole"
       },
       "id": "bc27fbf5-1bb4-4a7e-88d1-bf8806661d66"
      }
     }
    },
    "47b2709d-6852-4b72-9b6f-4f657959624e": {
     "id": "47b2709d-6852-4b72-9b6f-4f657959624e",
     "prev": "f3fee2a2-9ff0-4cb2-8cf3-d598911538ce",
     "regions": {
      "8235288a-20d0-432c-899f-d64e799c0a2f": {
       "attrs": {
        "height": 0.8,
        "width": 0.8,
        "x": 0.1,
        "y": 0.1
       },
       "content": {
        "cell": "9d0e38f6-72be-4fdc-95f9-ba9cfebb797d",
        "part": "whole"
       },
       "id": "8235288a-20d0-432c-899f-d64e799c0a2f"
      }
     }
    },
    "51e7ebc7-e5db-437b-bf45-204bf6843f00": {
     "id": "51e7ebc7-e5db-437b-bf45-204bf6843f00",
     "prev": "11cc04f9-46c1-4784-a2f6-7eb0a5c2eb94",
     "regions": {
      "e4cff1fe-f102-445b-9484-3273cec336c3": {
       "attrs": {
        "height": 0.8,
        "width": 0.8,
        "x": 0.1,
        "y": 0.1
       },
       "content": {
        "cell": "a4484f38-0880-4880-bf52-bfc606db0ddb",
        "part": "whole"
       },
       "id": "e4cff1fe-f102-445b-9484-3273cec336c3"
      }
     }
    },
    "549b5c7d-ede8-4771-bfbc-fe64848c02e7": {
     "id": "549b5c7d-ede8-4771-bfbc-fe64848c02e7",
     "prev": "fa3ddde3-afda-41a1-b6ad-a1cd7ac8b3da",
     "regions": {
      "988e5f4d-0517-4b0c-b59a-70b00f2c44cb": {
       "attrs": {
        "height": 0.8,
        "width": 0.8,
        "x": 0.1,
        "y": 0.1
       },
       "content": {
        "cell": "23f7257c-a6cd-4e13-90d2-4ef97738a2f9",
        "part": "whole"
       },
       "id": "988e5f4d-0517-4b0c-b59a-70b00f2c44cb"
      }
     }
    },
    "5d68710d-eda1-41d6-a564-1833cacc7ba4": {
     "id": "5d68710d-eda1-41d6-a564-1833cacc7ba4",
     "prev": "24160c2f-9153-4d16-bf71-60c9cef20b08",
     "regions": {
      "fc4509bf-0464-4b2a-a063-ff80374659db": {
       "attrs": {
        "height": 1,
        "width": 1,
        "x": 0,
        "y": 0
       },
       "id": "fc4509bf-0464-4b2a-a063-ff80374659db"
      }
     }
    },
    "5f7cbb13-f6b4-4c5c-9af3-dbad5f8ba20b": {
     "id": "5f7cbb13-f6b4-4c5c-9af3-dbad5f8ba20b",
     "prev": "7917770e-5831-4e2a-9056-f2b4c83e938e",
     "regions": {
      "b95e2c12-d4e2-4224-866a-5f8d864b8849": {
       "attrs": {
        "height": 0.8,
        "width": 0.8,
        "x": 0.1,
        "y": 0.1
       },
       "content": {
        "cell": "ab230ec7-f8ff-4358-af4f-609a9091760d",
        "part": "whole"
       },
       "id": "b95e2c12-d4e2-4224-866a-5f8d864b8849"
      }
     }
    },
    "62eada81-b042-4c21-8049-93c2ec247145": {
     "id": "62eada81-b042-4c21-8049-93c2ec247145",
     "prev": "b4cbee24-e5bd-45a2-ab9c-8325de73d9fc",
     "regions": {
      "b1821b38-45ca-4bc7-99dc-40e0053c65ff": {
       "attrs": {
        "height": 0.8,
        "width": 0.8,
        "x": 0.1,
        "y": 0.1
       },
       "content": {
        "cell": "673e2c5f-747e-4460-b5ed-ee4796a329e1",
        "part": "whole"
       },
       "id": "b1821b38-45ca-4bc7-99dc-40e0053c65ff"
      }
     }
    },
    "63f96d9d-988a-497c-89a4-8cab1e9141fc": {
     "id": "63f96d9d-988a-497c-89a4-8cab1e9141fc",
     "prev": "5f7cbb13-f6b4-4c5c-9af3-dbad5f8ba20b",
     "regions": {
      "e271345c-5446-4ec7-b4d1-c80cd3aad09e": {
       "attrs": {
        "height": 0.8,
        "width": 0.8,
        "x": 0.1,
        "y": 0.1
       },
       "content": {
        "cell": "1e6052f3-cf19-4b0a-a0fd-6ffbcf5628e5",
        "part": "whole"
       },
       "id": "e271345c-5446-4ec7-b4d1-c80cd3aad09e"
      }
     }
    },
    "64cd0df2-ecee-4429-aa17-76e68b5c262a": {
     "id": "64cd0df2-ecee-4429-aa17-76e68b5c262a",
     "prev": "ef7501e2-2792-4050-b966-bb22b558d010",
     "regions": {
      "10cce080-f14e-45fc-8d38-3f08cc67fe25": {
       "attrs": {
        "height": 0.8,
        "width": 0.8,
        "x": 0.1,
        "y": 0.1
       },
       "content": {
        "cell": "a1b5ce7d-ad3d-41e8-ba4e-17fa8cc474ce",
        "part": "whole"
       },
       "id": "10cce080-f14e-45fc-8d38-3f08cc67fe25"
      }
     }
    },
    "70e434f7-1faa-4a08-a301-28978fc8a6f9": {
     "id": "70e434f7-1faa-4a08-a301-28978fc8a6f9",
     "prev": "64cd0df2-ecee-4429-aa17-76e68b5c262a",
     "regions": {
      "e65377c1-d88e-44ad-ac8e-cb6e18006432": {
       "attrs": {
        "height": 0.8,
        "width": 0.8,
        "x": 0.1,
        "y": 0.1
       },
       "content": {
        "cell": "ed3d5353-a935-4d66-9e00-d137f2498183",
        "part": "whole"
       },
       "id": "e65377c1-d88e-44ad-ac8e-cb6e18006432"
      }
     }
    },
    "7917770e-5831-4e2a-9056-f2b4c83e938e": {
     "id": "7917770e-5831-4e2a-9056-f2b4c83e938e",
     "prev": "47b2709d-6852-4b72-9b6f-4f657959624e",
     "regions": {
      "18bb1865-7c42-4c8d-ab51-79fe5a27b56d": {
       "attrs": {
        "height": 0.8,
        "width": 0.8,
        "x": 0.1,
        "y": 0.1
       },
       "content": {
        "cell": "55344d0f-8ff8-484f-b04a-c27129ef7d96",
        "part": "whole"
       },
       "id": "18bb1865-7c42-4c8d-ab51-79fe5a27b56d"
      }
     }
    },
    "9356c1a3-03f7-460c-8b89-de409462d718": {
     "id": "9356c1a3-03f7-460c-8b89-de409462d718",
     "prev": "62eada81-b042-4c21-8049-93c2ec247145",
     "regions": {
      "fac3474e-b50f-44e2-a880-2d5b86c9e271": {
       "attrs": {
        "height": 0.8,
        "width": 0.8,
        "x": 0.1,
        "y": 0.1
       },
       "content": {
        "cell": "1ecb2ae3-5223-4f49-9f7a-53131c06bf79",
        "part": "whole"
       },
       "id": "fac3474e-b50f-44e2-a880-2d5b86c9e271"
      }
     }
    },
    "95414ef8-4911-4cb7-a728-f7ccce2d7250": {
     "id": "95414ef8-4911-4cb7-a728-f7ccce2d7250",
     "prev": "08d63523-b8ac-4a79-a7bb-7c0d6e6cb22a",
     "regions": {
      "8de6ba99-222b-484c-8fb4-a7e6b04a9d1d": {
       "attrs": {
        "height": 0.8,
        "width": 0.8,
        "x": 0.1,
        "y": 0.1
       },
       "content": {
        "cell": "e33a88d9-7cf3-4d6c-a3f5-dcc097389988",
        "part": "whole"
       },
       "id": "8de6ba99-222b-484c-8fb4-a7e6b04a9d1d"
      }
     }
    },
    "9a0bb850-62cb-4a7d-8cb9-8122c533f95f": {
     "id": "9a0bb850-62cb-4a7d-8cb9-8122c533f95f",
     "prev": "b6ff9eb8-7f5e-48c5-87fa-dbf31071ec91",
     "regions": {
      "8b20ebc5-fb56-46f5-a492-03ed35e6374b": {
       "attrs": {
        "height": 0.8,
        "width": 0.8,
        "x": 0.1,
        "y": 0.1
       },
       "content": {
        "cell": "d86a68e5-be21-4164-9aee-0bc974b74b29",
        "part": "whole"
       },
       "id": "8b20ebc5-fb56-46f5-a492-03ed35e6374b"
      }
     }
    },
    "9b7b1450-53b7-420b-a4f9-7d9ddfc76d47": {
     "id": "9b7b1450-53b7-420b-a4f9-7d9ddfc76d47",
     "prev": "5d68710d-eda1-41d6-a564-1833cacc7ba4",
     "regions": {
      "f503cc89-3e47-4d66-9285-767ca74674bb": {
       "attrs": {
        "height": 0.8,
        "width": 0.8,
        "x": 0.1,
        "y": 0.1
       },
       "content": {
        "cell": "8be803de-a553-4276-8339-bae9871d18ac",
        "part": "whole"
       },
       "id": "f503cc89-3e47-4d66-9285-767ca74674bb"
      }
     }
    },
    "9c9b344b-0c59-4a18-a5f6-981e66f0e8e0": {
     "id": "9c9b344b-0c59-4a18-a5f6-981e66f0e8e0",
     "prev": "e7938946-a925-4ea4-8561-896aaa3c6430",
     "regions": {
      "18e15a36-0391-45eb-9381-49dd2fc85d6a": {
       "attrs": {
        "height": 0.8,
        "width": 0.8,
        "x": 0.1,
        "y": 0.1
       },
       "content": {
        "cell": "4c0fa8b3-92ad-4462-92e9-af716e2f427e",
        "part": "whole"
       },
       "id": "18e15a36-0391-45eb-9381-49dd2fc85d6a"
      }
     }
    },
    "9d92f114-90d4-4e52-8d33-271c4cba9c89": {
     "id": "9d92f114-90d4-4e52-8d33-271c4cba9c89",
     "prev": "51e7ebc7-e5db-437b-bf45-204bf6843f00",
     "regions": {
      "a084d410-39c5-42a9-8169-3969d6a2154e": {
       "attrs": {
        "height": 0.8,
        "width": 0.8,
        "x": 0.1,
        "y": 0.1
       },
       "content": {
        "cell": "a6685944-04c0-40a0-a8c1-29f48b022bee",
        "part": "whole"
       },
       "id": "a084d410-39c5-42a9-8169-3969d6a2154e"
      }
     }
    },
    "b3092392-8945-4c2b-88c1-950e39b79dd5": {
     "id": "b3092392-8945-4c2b-88c1-950e39b79dd5",
     "prev": "9d92f114-90d4-4e52-8d33-271c4cba9c89",
     "regions": {
      "366b8946-f1f0-4eff-ba67-d671ed86df40": {
       "attrs": {
        "height": 0.8,
        "width": 0.8,
        "x": 0.1,
        "y": 0.1
       },
       "content": {
        "cell": "4ce5d262-084b-48b1-9b56-95852b059d14",
        "part": "whole"
       },
       "id": "366b8946-f1f0-4eff-ba67-d671ed86df40"
      }
     }
    },
    "b4cbee24-e5bd-45a2-ab9c-8325de73d9fc": {
     "id": "b4cbee24-e5bd-45a2-ab9c-8325de73d9fc",
     "prev": "08dd87e8-0fb8-4b75-803a-bf5baf9179a1",
     "regions": {
      "783b5422-fc44-4101-b49c-633c00aac995": {
       "attrs": {
        "height": 0.8,
        "width": 0.8,
        "x": 0.1,
        "y": 0.1
       },
       "content": {
        "cell": "f7540eb4-cfc0-435d-b0c4-d07656bee666",
        "part": "whole"
       },
       "id": "783b5422-fc44-4101-b49c-633c00aac995"
      }
     }
    },
    "b6ff9eb8-7f5e-48c5-87fa-dbf31071ec91": {
     "id": "b6ff9eb8-7f5e-48c5-87fa-dbf31071ec91",
     "prev": "95414ef8-4911-4cb7-a728-f7ccce2d7250",
     "regions": {
      "60a12f06-c396-46b7-9ee5-ee890ff57d87": {
       "attrs": {
        "height": 0.8,
        "width": 0.8,
        "x": 0.1,
        "y": 0.1
       },
       "content": {
        "cell": "dbc3f073-1920-4562-83c5-8a9b414b1c94",
        "part": "whole"
       },
       "id": "60a12f06-c396-46b7-9ee5-ee890ff57d87"
      }
     }
    },
    "c24e08b6-4580-4848-b80a-f68c9689ea32": {
     "id": "c24e08b6-4580-4848-b80a-f68c9689ea32",
     "prev": "9b7b1450-53b7-420b-a4f9-7d9ddfc76d47",
     "regions": {
      "66f32e73-0571-4f44-8416-d71868a46e12": {
       "attrs": {
        "height": 0.8,
        "width": 0.8,
        "x": 0.1,
        "y": 0.1
       },
       "content": {
        "cell": "f55aea7a-9c72-4708-aaf0-9ac75aa52888",
        "part": "whole"
       },
       "id": "66f32e73-0571-4f44-8416-d71868a46e12"
      }
     }
    },
    "c5348c71-d730-43ac-bb81-59292b559eb1": {
     "id": "c5348c71-d730-43ac-bb81-59292b559eb1",
     "prev": "9356c1a3-03f7-460c-8b89-de409462d718",
     "regions": {
      "0469c820-502d-4aed-bc6b-c0c60a8c11e6": {
       "attrs": {
        "height": 0.8,
        "width": 0.8,
        "x": 0.1,
        "y": 0.1
       },
       "content": {
        "cell": "a3d22f98-ad7c-4aae-af9d-f25bf13e4499",
        "part": "whole"
       },
       "id": "0469c820-502d-4aed-bc6b-c0c60a8c11e6"
      }
     }
    },
    "cc63c963-7215-48e0-a2f0-1275fd27a88f": {
     "id": "cc63c963-7215-48e0-a2f0-1275fd27a88f",
     "prev": "c5348c71-d730-43ac-bb81-59292b559eb1",
     "regions": {
      "6ab87acf-6abc-4044-b93f-a0506ce9877c": {
       "attrs": {
        "height": 0.8,
        "width": 0.8,
        "x": 0.1,
        "y": 0.1
       },
       "content": {
        "cell": "65b7f5ee-367e-4a73-8b47-deb6678de446",
        "part": "whole"
       },
       "id": "6ab87acf-6abc-4044-b93f-a0506ce9877c"
      }
     }
    },
    "d149a396-4484-44df-954f-aa2a7f005233": {
     "id": "d149a396-4484-44df-954f-aa2a7f005233",
     "prev": "42bd3a9e-2580-4d78-bc30-3e95e0492de3",
     "regions": {
      "8afc9c35-ebfa-4def-bd08-016a2480bcd4": {
       "attrs": {
        "height": 0.8,
        "width": 0.8,
        "x": 0.1,
        "y": 0.1
       },
       "content": {
        "cell": "2cb06559-55bb-4f6f-97b7-4b75128c26ce",
        "part": "whole"
       },
       "id": "8afc9c35-ebfa-4def-bd08-016a2480bcd4"
      }
     }
    },
    "d9569de9-1285-484d-9b89-7449a532e81c": {
     "id": "d9569de9-1285-484d-9b89-7449a532e81c",
     "prev": "136c1a73-386d-4cd9-97e3-f07a0e2dc58e",
     "regions": {
      "46ddbeb9-ba90-481d-82da-27793cc2e600": {
       "attrs": {
        "height": 0.8,
        "width": 0.8,
        "x": 0.1,
        "y": 0.1
       },
       "content": {
        "cell": "6c71f004-8227-4737-9f1d-41a329530720",
        "part": "whole"
       },
       "id": "46ddbeb9-ba90-481d-82da-27793cc2e600"
      }
     }
    },
    "dc5832c5-7222-4508-b9b8-4c69d2f4f9b4": {
     "id": "dc5832c5-7222-4508-b9b8-4c69d2f4f9b4",
     "prev": "416c8461-0cf2-44b2-9a22-a50a7a5c2731",
     "regions": {
      "25c2cf7d-589e-4444-8ade-a00ea60d9ad2": {
       "attrs": {
        "height": 0.8,
        "width": 0.8,
        "x": 0.1,
        "y": 0.1
       },
       "content": {
        "cell": "b85b3458-64de-4051-8839-1cad4429d0af",
        "part": "whole"
       },
       "id": "25c2cf7d-589e-4444-8ade-a00ea60d9ad2"
      }
     }
    },
    "e7938946-a925-4ea4-8561-896aaa3c6430": {
     "id": "e7938946-a925-4ea4-8561-896aaa3c6430",
     "prev": "9a0bb850-62cb-4a7d-8cb9-8122c533f95f",
     "regions": {
      "17aa3c70-25b7-4cbf-9347-208167e1d5fe": {
       "attrs": {
        "height": 0.8,
        "width": 0.8,
        "x": 0.1,
        "y": 0.1
       },
       "content": {
        "cell": "1a5a8c04-8d1c-48e1-8d8a-60622e544565",
        "part": "whole"
       },
       "id": "17aa3c70-25b7-4cbf-9347-208167e1d5fe"
      }
     }
    },
    "ef7501e2-2792-4050-b966-bb22b558d010": {
     "id": "ef7501e2-2792-4050-b966-bb22b558d010",
     "prev": "9c9b344b-0c59-4a18-a5f6-981e66f0e8e0",
     "regions": {
      "01540faa-38d1-41d1-97d3-54ee2db81ff5": {
       "attrs": {
        "height": 0.8,
        "width": 0.8,
        "x": 0.1,
        "y": 0.1
       },
       "content": {
        "cell": "7b7c2518-6d09-4637-9990-cad597d7f304",
        "part": "whole"
       },
       "id": "01540faa-38d1-41d1-97d3-54ee2db81ff5"
      }
     }
    },
    "f3fee2a2-9ff0-4cb2-8cf3-d598911538ce": {
     "id": "f3fee2a2-9ff0-4cb2-8cf3-d598911538ce",
     "prev": "c24e08b6-4580-4848-b80a-f68c9689ea32",
     "regions": {
      "303e538e-1c8f-45b2-879e-f6a467524071": {
       "attrs": {
        "height": 0.8,
        "width": 0.8,
        "x": 0.1,
        "y": 0.1
       },
       "content": {
        "cell": "3be6b78a-cd64-4f5e-b73e-a5af94a634c8",
        "part": "whole"
       },
       "id": "303e538e-1c8f-45b2-879e-f6a467524071"
      }
     }
    },
    "f9071dc5-0e51-422e-b7ea-0a9bd60db1ab": {
     "id": "f9071dc5-0e51-422e-b7ea-0a9bd60db1ab",
     "prev": "1974205e-adfd-45c9-b16c-3321c1faabe3",
     "regions": {
      "949d779f-a6f1-4b74-b974-c26034d1ecfc": {
       "attrs": {
        "height": 0.8,
        "width": 0.8,
        "x": 0.1,
        "y": 0.1
       },
       "content": {
        "cell": "5dce8b62-8ff6-402e-8f33-92b4ba4b8c6b",
        "part": "whole"
       },
       "id": "949d779f-a6f1-4b74-b974-c26034d1ecfc"
      }
     }
    },
    "fa3ddde3-afda-41a1-b6ad-a1cd7ac8b3da": {
     "id": "fa3ddde3-afda-41a1-b6ad-a1cd7ac8b3da",
     "prev": "3422e0d8-fde7-4e1e-9b07-1277892748c1",
     "regions": {
      "55a2bb67-0106-4c18-a7fe-f158ca51f343": {
       "attrs": {
        "height": 0.8,
        "width": 0.8,
        "x": 0.1,
        "y": 0.1
       },
       "content": {
        "cell": "3321db8b-b3f3-4259-ae32-be3f23c9a32c",
        "part": "whole"
       },
       "id": "55a2bb67-0106-4c18-a7fe-f158ca51f343"
      }
     }
    }
   },
   "themes": {
    "default": "73a963ef-e176-4b74-a2dc-7e45bf3825b5",
    "theme": {
     "73a963ef-e176-4b74-a2dc-7e45bf3825b5": {
      "backgrounds": {
       "dc7afa04-bf90-40b1-82a5-726e3cff5267": {
        "background-color": "31af15d2-7e15-44c5-ab5e-e04b16a89eff",
        "id": "dc7afa04-bf90-40b1-82a5-726e3cff5267"
       }
      },
      "id": "73a963ef-e176-4b74-a2dc-7e45bf3825b5",
      "palette": {
       "19cc588f-0593-49c9-9f4b-e4d7cc113b1c": {
        "id": "19cc588f-0593-49c9-9f4b-e4d7cc113b1c",
        "rgb": [
         252,
         252,
         252
        ]
       },
       "31af15d2-7e15-44c5-ab5e-e04b16a89eff": {
        "id": "31af15d2-7e15-44c5-ab5e-e04b16a89eff",
        "rgb": [
         68,
         68,
         68
        ]
       },
       "50f92c45-a630-455b-aec3-788680ec7410": {
        "id": "50f92c45-a630-455b-aec3-788680ec7410",
        "rgb": [
         197,
         226,
         245
        ]
       },
       "c5cc3653-2ee1-402a-aba2-7caae1da4f6c": {
        "id": "c5cc3653-2ee1-402a-aba2-7caae1da4f6c",
        "rgb": [
         43,
         126,
         184
        ]
       },
       "efa7f048-9acb-414c-8b04-a26811511a21": {
        "id": "efa7f048-9acb-414c-8b04-a26811511a21",
        "rgb": [
         25.118061674008803,
         73.60176211453744,
         107.4819383259912
        ]
       }
      },
      "rules": {
       "a": {
        "color": "19cc588f-0593-49c9-9f4b-e4d7cc113b1c"
       },
       "blockquote": {
        "color": "50f92c45-a630-455b-aec3-788680ec7410",
        "font-size": 3
       },
       "code": {
        "font-family": "Anonymous Pro"
       },
       "h1": {
        "color": "19cc588f-0593-49c9-9f4b-e4d7cc113b1c",
        "font-family": "Merriweather",
        "font-size": 8
       },
       "h2": {
        "color": "19cc588f-0593-49c9-9f4b-e4d7cc113b1c",
        "font-family": "Merriweather",
        "font-size": 6
       },
       "h3": {
        "color": "50f92c45-a630-455b-aec3-788680ec7410",
        "font-family": "Lato",
        "font-size": 5.5
       },
       "h4": {
        "color": "c5cc3653-2ee1-402a-aba2-7caae1da4f6c",
        "font-family": "Lato",
        "font-size": 5
       },
       "h5": {
        "font-family": "Lato"
       },
       "h6": {
        "font-family": "Lato"
       },
       "h7": {
        "font-family": "Lato"
       },
       "li": {
        "color": "50f92c45-a630-455b-aec3-788680ec7410",
        "font-size": 3.25
       },
       "pre": {
        "font-family": "Anonymous Pro",
        "font-size": 4
       }
      },
      "text-base": {
       "color": "19cc588f-0593-49c9-9f4b-e4d7cc113b1c",
       "font-family": "Lato",
       "font-size": 4
      }
     }
    }
   }
  }
 },
 "nbformat": 4,
 "nbformat_minor": 0
}
