{
 "cells": [
  {
   "cell_type": "markdown",
   "metadata": {},
   "source": [
    "<center><h1>Example of statistical analysis:</h1>\n",
    "<h2>Search of gaussian signal in an exponentially decreasing background</h2> \n",
    "<h2>Part II</h2>"
   ]
  },
  {
   "cell_type": "markdown",
   "metadata": {},
   "source": [
    "<h3>Loading the tools and function definition (again !)</h3>"
   ]
  },
  {
   "cell_type": "markdown",
   "metadata": {},
   "source": [
    "<h4>Loading the tools:</h4>"
   ]
  },
  {
   "cell_type": "code",
   "execution_count": null,
   "metadata": {
    "collapsed": false
   },
   "outputs": [],
   "source": [
    "# Native Python modules\n",
    "import os, sys, csv, string\n",
    "\n",
    "# Scipy/Numpy modules\n",
    "import numpy as np\n",
    "import scipy as sp\n",
    "import matplotlib.pyplot as plt\n",
    "#get the plots in the notebook\n",
    "%pylab inline"
   ]
  },
  {
   "cell_type": "markdown",
   "metadata": {},
   "source": [
    "<h4>Functions definitions </h4>"
   ]
  },
  {
   "cell_type": "code",
   "execution_count": null,
   "metadata": {
    "collapsed": true
   },
   "outputs": [],
   "source": [
    "def bgFunc(alpha):\n",
    "    return lambda x: 1.0/alpha*np.exp(-x/alpha)\n",
    "def sigFunc(mu, sigma):\n",
    "    return lambda x: 1.0/(np.sqrt(2*np.pi)*sigma)*np.exp(-np.power((x-mu),2)/(2*np.power(sigma,2)))"
   ]
  },
  {
   "cell_type": "code",
   "execution_count": null,
   "metadata": {
    "collapsed": true
   },
   "outputs": [],
   "source": [
    "bg=bgFunc(25)\n",
    "sg=sigFunc(15,2)"
   ]
  },
  {
   "cell_type": "markdown",
   "metadata": {},
   "source": [
    "<h4>generate the signal and background histograms</h4>"
   ]
  },
  {
   "cell_type": "code",
   "execution_count": null,
   "metadata": {
    "collapsed": true
   },
   "outputs": [],
   "source": [
    "def generateHisto(xRange,nbBins,func):\n",
    "    binSize=(xRange[1]-xRange[0])/nbBins\n",
    "    xBinLow=[]\n",
    "    xiVal=[]\n",
    "    xWidth=[]\n",
    "    #first check which scale should be applied to the histogram\n",
    "    histoIntegral=0\n",
    "    for i in range(0,nbBins):\n",
    "        xi=xRange[0]+1.0*i*binSize+1.0*binSize/2\n",
    "        histoIntegral=histoIntegral+func(xi)\n",
    "    #compute the scale to apply to the histo\n",
    "    reScale=1./histoIntegral\n",
    "    #now generate the histo\n",
    "    for i in range(0,nbBins):\n",
    "        xBinLow.append(xRange[0]+i*binSize)\n",
    "        xi=xRange[0]+1.0*i*binSize+1.0*binSize/2\n",
    "        xiVal.append(reScale*func(xi))\n",
    "        xWidth.append(binSize)\n",
    "    return [xBinLow, xiVal, xWidth]\n",
    "\n"
   ]
  },
  {
   "cell_type": "code",
   "execution_count": null,
   "metadata": {
    "collapsed": false
   },
   "outputs": [],
   "source": [
    "bgHisto_=generateHisto([0,100],100,bg)\n",
    "sigHisto_=generateHisto([0,100],100,sg)\n",
    " \n",
    "plt.bar(bgHisto_[0], bgHisto_[1], width=bgHisto_[2])     \n",
    "plt.bar(sigHisto_[0], sigHisto_[1], width=sigHisto_[2],color='r')     \n",
    "\n",
    "print('sumSig=',sum(sigHisto_[1]), 'sumBg=', sum(bgHisto_[1]))"
   ]
  },
  {
   "cell_type": "code",
   "execution_count": null,
   "metadata": {
    "collapsed": false
   },
   "outputs": [],
   "source": [
    "NbBgEvent_=5000\n",
    "NbSigEvent_=70\n",
    "\n",
    "sigHistoNormed=[x * NbSigEvent_ for x in sigHisto_[1]]\n",
    "bgHistoNormed=[x * NbBgEvent_ for x in bgHisto_[1]]\n",
    "\n",
    "\n",
    "sumSigBg=list(map(add,sigHistoNormed, bgHistoNormed))\n",
    "plt.bar(sigHisto_[0], sumSigBg, width=sigHisto_[2],color='g')     \n",
    "plt.bar(bgHisto_[0], bgHistoNormed, width=bgHisto_[2])     \n",
    "plt.bar(sigHisto_[0], sigHistoNormed, width=sigHisto_[2],color='r')"
   ]
  },
  {
   "cell_type": "markdown",
   "metadata": {},
   "source": [
    "<h4>loading the data </h4>"
   ]
  },
  {
   "cell_type": "code",
   "execution_count": null,
   "metadata": {
    "collapsed": true
   },
   "outputs": [],
   "source": [
    "dataHist=[183, 203, 189, 178, 169, 187, 156, 150, 164, 141, 153, 123, 122, 122, 117, 128, 125, 99, 91, 93, 85, 100, 91, 64, 80, 66, 69, 65, 64, 59, 64, 58, 55, 47, 52, 36, 54, 47, 53, 42, 34, 40, 45, 40, 32, 40, 24, 29, 30, 28, 19, 27, 23, 26, 23, 22, 28, 20, 13, 16, 13, 15, 15, 20, 18, 12, 13, 11, 13, 10, 9, 16, 10, 13, 6, 8, 13, 14, 4, 4, 9, 3, 10, 10, 8, 6, 11, 9, 6, 4, 6, 4, 9, 3, 5, 10, 5, 5, 5, 4]"
   ]
  },
  {
   "cell_type": "code",
   "execution_count": null,
   "metadata": {
    "collapsed": false
   },
   "outputs": [],
   "source": [
    "plt.bar(sigHisto_[0], dataHist, width=sigHisto_[2],color='g')  "
   ]
  },
  {
   "cell_type": "code",
   "execution_count": null,
   "metadata": {
    "collapsed": true
   },
   "outputs": [],
   "source": [
    "def pseudoDataFromHisto(histoSig,histoBg, NbSigEvent,NbBgEvent, mu):\n",
    "    smearedHisto=[]\n",
    "    sigHistoNormed=[x * NbSigEvent* mu for x in histoSig]\n",
    "    bgHistoNormed=[x * NbBgEvent for x in histoBg]\n",
    "    theHisto=map(add,sigHistoNormed, bgHistoNormed)\n",
    "    for aBin in theHisto:\n",
    "        smearedHisto.append(np.random.poisson(aBin,1)[0])\n",
    "    return smearedHisto"
   ]
  },
  {
   "cell_type": "markdown",
   "metadata": {},
   "source": [
    "<h3>3. Profile LikelyHood defininition</h3>"
   ]
  },
  {
   "cell_type": "code",
   "execution_count": null,
   "metadata": {
    "collapsed": false
   },
   "outputs": [],
   "source": []
  }
 ],
 "metadata": {
  "anaconda-cloud": {},
  "kernelspec": {
   "display_name": "Python [Root]",
   "language": "python",
   "name": "Python [Root]"
  },
  "language_info": {
   "codemirror_mode": {
    "name": "ipython",
    "version": 3
   },
   "file_extension": ".py",
   "mimetype": "text/x-python",
   "name": "python",
   "nbconvert_exporter": "python",
   "pygments_lexer": "ipython3",
   "version": "3.5.2"
  }
 },
 "nbformat": 4,
 "nbformat_minor": 0
}
